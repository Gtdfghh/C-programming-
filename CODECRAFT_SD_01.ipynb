{
  "nbformat": 4,
  "nbformat_minor": 0,
  "metadata": {
    "colab": {
      "provenance": [],
      "authorship_tag": "ABX9TyM1bELWTXkfZRYHVTojY0hp",
      "include_colab_link": true
    },
    "kernelspec": {
      "name": "python3",
      "display_name": "Python 3"
    },
    "language_info": {
      "name": "python"
    }
  },
  "cells": [
    {
      "cell_type": "markdown",
      "metadata": {
        "id": "view-in-github",
        "colab_type": "text"
      },
      "source": [
        "<a href=\"https://colab.research.google.com/github/Gtdfghh/C-programming-/blob/main/CODECRAFT_SD_01.ipynb\" target=\"_parent\"><img src=\"https://colab.research.google.com/assets/colab-badge.svg\" alt=\"Open In Colab\"/></a>"
      ]
    },
    {
      "cell_type": "code",
      "execution_count": null,
      "metadata": {
        "colab": {
          "base_uri": "https://localhost:8080/"
        },
        "id": "sffTrJ2tN0Tc",
        "outputId": "7b0004fc-ee8b-433d-8de5-313077c3e51b"
      },
      "outputs": [
        {
          "output_type": "stream",
          "name": "stdout",
          "text": [
            "Enter temperature value: 25\n",
            "Enter unit (C/F/K): C\n",
            "25.0°C = 77.0°F\n",
            "25.0°C = 298.15K\n"
          ]
        }
      ],
      "source": [
        "# Task 01: Temperature Conversion Program\n",
        "\n",
        "def celsius_to_fahrenheit(c):\n",
        "    return (c * 9/5) + 32\n",
        "\n",
        "def celsius_to_kelvin(c):\n",
        "    return c + 273.15\n",
        "\n",
        "def fahrenheit_to_celsius(f):\n",
        "    return (f - 32) * 5/9\n",
        "\n",
        "def fahrenheit_to_kelvin(f):\n",
        "    return (f - 32) * 5/9 + 273.15\n",
        "\n",
        "def kelvin_to_celsius(k):\n",
        "    return k - 273.15\n",
        "\n",
        "def kelvin_to_fahrenheit(k):\n",
        "    return (k - 273.15) * 9/5 + 32\n",
        "temp = float(input(\"Enter temperature value: \"))\n",
        "unit = input(\"Enter unit (C/F/K): \").upper()\n",
        "\n",
        "if unit == \"C\":\n",
        "    print(f\"{temp}°C = {celsius_to_fahrenheit(temp)}°F\")\n",
        "    print(f\"{temp}°C = {celsius_to_kelvin(temp)}K\")\n",
        "elif unit == \"F\":\n",
        "    print(f\"{temp}°F = {fahrenheit_to_celsius(temp)}°C\")\n",
        "    print(f\"{temp}°F = {fahrenheit_to_kelvin(temp)}K\")\n",
        "elif unit == \"K\":\n",
        "    print(f\"{temp}K = {kelvin_to_celsius(temp)}°C\")\n",
        "    print(f\"{temp}K = {kelvin_to_fahrenheit(temp)}°F\")\n",
        "else:\n",
        "    print(\"Invalid unit entered!\")\n"
      ]
    }
  ]
}